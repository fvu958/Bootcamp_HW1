{
 "cells": [
  {
   "cell_type": "code",
   "execution_count": 4,
   "metadata": {},
   "outputs": [],
   "source": [
    "import csv\n",
    "import os\n",
    "import datetime as dt"
   ]
  },
  {
   "cell_type": "code",
   "execution_count": 5,
   "metadata": {},
   "outputs": [],
   "source": [
    "# Files to load and output (Remember to change these)\n",
    "emp_data = os.path.join(\"employee_data1.csv\")\n",
    "output = \"employee_data_reformatted1.csv\""
   ]
  },
  {
   "cell_type": "code",
   "execution_count": 6,
   "metadata": {},
   "outputs": [],
   "source": [
    "emp_id = []\n",
    "first_names = []\n",
    "last_names = []\n",
    "dob = []\n",
    "ssn = []\n",
    "states = []"
   ]
  },
  {
   "cell_type": "code",
   "execution_count": 7,
   "metadata": {},
   "outputs": [],
   "source": [
    "us_state_abbrev = {\n",
    "   \"Alabama\": \"AL\",\n",
    "   \"Alaska\": \"AK\",\n",
    "   \"Arizona\": \"AZ\",\n",
    "   \"Arkansas\": \"AR\",\n",
    "   \"California\": \"CA\",\n",
    "   \"Colorado\": \"CO\",\n",
    "   \"Connecticut\": \"CT\",\n",
    "   \"Delaware\": \"DE\",\n",
    "   \"Florida\": \"FL\",\n",
    "   \"Georgia\": \"GA\",\n",
    "   \"Hawaii\": \"HI\",\n",
    "   \"Idaho\": \"ID\",\n",
    "   \"Illinois\": \"IL\",\n",
    "   \"Indiana\": \"IN\",\n",
    "   \"Iowa\": \"IA\",\n",
    "   \"Kansas\": \"KS\",\n",
    "   \"Kentucky\": \"KY\",\n",
    "   \"Louisiana\": \"LA\",\n",
    "   \"Maine\": \"ME\",\n",
    "   \"Maryland\": \"MD\",\n",
    "   \"Massachusetts\": \"MA\",\n",
    "   \"Michigan\": \"MI\",\n",
    "   \"Minnesota\": \"MN\",\n",
    "   \"Mississippi\": \"MS\",\n",
    "   \"Missouri\": \"MO\",\n",
    "   \"Montana\": \"MT\",\n",
    "   \"Nebraska\": \"NE\",\n",
    "   \"Nevada\": \"NV\",\n",
    "   \"New Hampshire\": \"NH\",\n",
    "   \"New Jersey\": \"NJ\",\n",
    "   \"New Mexico\": \"NM\",\n",
    "   \"New York\": \"NY\",\n",
    "   \"North Carolina\": \"NC\",\n",
    "   \"North Dakota\": \"ND\",\n",
    "   \"Ohio\": \"OH\",\n",
    "   \"Oklahoma\": \"OK\",\n",
    "   \"Oregon\": \"OR\",\n",
    "   \"Pennsylvania\": \"PA\",\n",
    "   \"Rhode Island\": \"RI\",\n",
    "   \"South Carolina\": \"SC\",\n",
    "   \"South Dakota\": \"SD\",\n",
    "   \"Tennessee\": \"TN\",\n",
    "   \"Texas\": \"TX\",\n",
    "   \"Utah\": \"UT\",\n",
    "   \"Vermont\": \"VT\",\n",
    "   \"Virginia\": \"VA\",\n",
    "   \"Washington\": \"WA\",\n",
    "   \"West Virginia\": \"WV\",\n",
    "   \"Wisconsin\": \"WI\",\n",
    "   \"Wyoming\": \"WY\",\n",
    "}"
   ]
  },
  {
   "cell_type": "code",
   "execution_count": 8,
   "metadata": {},
   "outputs": [],
   "source": [
    "emp_dict = csv.DictReader(open(emp_data))"
   ]
  },
  {
   "cell_type": "code",
   "execution_count": 9,
   "metadata": {},
   "outputs": [],
   "source": [
    "for row in emp_dict:\n",
    "    emp_id = emp_id + [row[\"Emp ID\"]]\n",
    "    \n",
    "    split_name = row[\"Name\"].split(\" \")\n",
    "    \n",
    "    first_names = first_names + [split_name[0]]\n",
    "    last_names = last_names + [split_name[1]]\n",
    "    \n",
    "    clean_dob = dt.datetime.strptime(row[\"DOB\"], \"%Y-%m-%d\")\n",
    "    clean_dob = clean_dob.strftime(\"%m/%d/%Y\")\n",
    "    \n",
    "    dob = dob + [clean_dob]\n",
    "    \n",
    "    split_ssn = list(row[\"SSN\"])\n",
    "    split_ssn[0:3] = (\"*\", \"*\", \"*\")\n",
    "    split_ssn[4:6] = (\"*\", \"*\")\n",
    "    clean_ssn = \"\".join(split_ssn)\n",
    "\n",
    "    ssn = ssn + [clean_ssn]\n",
    "\n",
    "    abbrev = us_state_abbrev[row[\"State\"]]\n",
    "\n",
    "    states = states + [abbrev]"
   ]
  },
  {
   "cell_type": "code",
   "execution_count": 10,
   "metadata": {},
   "outputs": [],
   "source": [
    "emp_DB = zip(emp_id, first_names, last_names, dob, ssn, states)"
   ]
  },
  {
   "cell_type": "code",
   "execution_count": 11,
   "metadata": {},
   "outputs": [],
   "source": [
    "datafile = open(output, \"w\", newline=\"\")\n",
    "writer = csv.writer(datafile)\n",
    "writer.writerow([\"Emp ID\", \"First Name\", \"Last Name\",\n",
    "                    \"DOB\", \"SSN\", \"State\"])\n",
    "writer.writerows(emp_DB)"
   ]
  },
  {
   "cell_type": "code",
   "execution_count": null,
   "metadata": {},
   "outputs": [],
   "source": []
  },
  {
   "cell_type": "code",
   "execution_count": null,
   "metadata": {},
   "outputs": [],
   "source": []
  },
  {
   "cell_type": "code",
   "execution_count": null,
   "metadata": {},
   "outputs": [],
   "source": []
  }
 ],
 "metadata": {
  "kernelspec": {
   "display_name": "Python 3",
   "language": "python",
   "name": "python3"
  },
  "language_info": {
   "codemirror_mode": {
    "name": "ipython",
    "version": 3
   },
   "file_extension": ".py",
   "mimetype": "text/x-python",
   "name": "python",
   "nbconvert_exporter": "python",
   "pygments_lexer": "ipython3",
   "version": "3.6.4"
  }
 },
 "nbformat": 4,
 "nbformat_minor": 2
}
