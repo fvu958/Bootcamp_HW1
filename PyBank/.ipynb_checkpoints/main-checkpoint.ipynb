{
 "cells": [
  {
   "cell_type": "code",
   "execution_count": 1,
   "metadata": {},
   "outputs": [],
   "source": [
    "import csv\n",
    "import os"
   ]
  },
  {
   "cell_type": "code",
   "execution_count": 2,
   "metadata": {},
   "outputs": [],
   "source": [
    "budget_CSV = os.path.join(\"budget_data_1.csv\")\n",
    "output = \"budget_analysis_1.txt\""
   ]
  },
  {
   "cell_type": "code",
   "execution_count": 3,
   "metadata": {},
   "outputs": [],
   "source": [
    "tot_months = 0\n",
    "prev_revenue = 0\n",
    "month_change = []\n",
    "rev_change_list = []\n",
    "increase = [\"\", 0]\n",
    "decrease = [\"\", 999999999999]\n",
    "tot_revenue = 0"
   ]
  },
  {
   "cell_type": "code",
   "execution_count": 4,
   "metadata": {},
   "outputs": [],
   "source": [
    "data = csv.DictReader(open(budget_CSV))"
   ]
  },
  {
   "cell_type": "code",
   "execution_count": 5,
   "metadata": {},
   "outputs": [],
   "source": [
    "for row in data:\n",
    "    tot_months = tot_months + 1\n",
    "    tot_revenue = tot_revenue + int(row[\"Revenue\"])\n",
    "\n",
    "    revenue_change = int(row[\"Revenue\"]) - prev_revenue\n",
    "    prev_revenue = int(row[\"Revenue\"])\n",
    "    rev_change_list = rev_change_list + [revenue_change]\n",
    "    month_change = month_change + [row[\"Date\"]]\n",
    "\n",
    "    if (revenue_change > increase[1]):\n",
    "        increase[0] = row[\"Date\"]\n",
    "        increase[1] = revenue_change\n",
    "\n",
    "    if (revenue_change < decrease[1]):\n",
    "        decrease[0] = row[\"Date\"]\n",
    "        decrease[1] = revenue_change\n"
   ]
  },
  {
   "cell_type": "code",
   "execution_count": 6,
   "metadata": {},
   "outputs": [],
   "source": [
    "avg = sum(rev_change_list) / len(rev_change_list)"
   ]
  },
  {
   "cell_type": "code",
   "execution_count": 7,
   "metadata": {},
   "outputs": [
    {
     "name": "stdout",
     "output_type": "stream",
     "text": [
      "\n",
      "Financial Analysis\n",
      "----------------------------\n",
      "Total Months: 41\n",
      "Total Revenue: $18971412\n",
      "Average Revenue Change: $21559.365853658535\n",
      "Greatest Increase in Revenue: Feb-16 ($1837235)\n",
      "Greatest Decrease in Revenue: Aug-14 ($-1779747)\n",
      "\n"
     ]
    }
   ],
   "source": [
    "analysis = (\n",
    "    f\"\\nFinancial Analysis\\n\"\n",
    "    f\"----------------------------\\n\"\n",
    "    f\"Total Months: {tot_months}\\n\"\n",
    "    f\"Total Revenue: ${tot_revenue}\\n\"\n",
    "    f\"Average Revenue Change: ${avg}\\n\"\n",
    "    f\"Greatest Increase in Revenue: {increase[0]} (${increase[1]})\\n\"\n",
    "    f\"Greatest Decrease in Revenue: {decrease[0]} (${decrease[1]})\\n\")\n",
    "print(analysis)"
   ]
  },
  {
   "cell_type": "code",
   "execution_count": 11,
   "metadata": {},
   "outputs": [
    {
     "data": {
      "text/plain": [
       "21"
      ]
     },
     "execution_count": 11,
     "metadata": {},
     "output_type": "execute_result"
    }
   ],
   "source": [
    "datafile = open(output, \"w\")\n",
    "datafile.write(output)"
   ]
  },
  {
   "cell_type": "code",
   "execution_count": null,
   "metadata": {},
   "outputs": [],
   "source": []
  },
  {
   "cell_type": "code",
   "execution_count": null,
   "metadata": {},
   "outputs": [],
   "source": []
  }
 ],
 "metadata": {
  "kernelspec": {
   "display_name": "Python 3",
   "language": "python",
   "name": "python3"
  },
  "language_info": {
   "codemirror_mode": {
    "name": "ipython",
    "version": 3
   },
   "file_extension": ".py",
   "mimetype": "text/x-python",
   "name": "python",
   "nbconvert_exporter": "python",
   "pygments_lexer": "ipython3",
   "version": "3.6.4"
  }
 },
 "nbformat": 4,
 "nbformat_minor": 2
}
